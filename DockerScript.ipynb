{
 "cells": [
  {
   "cell_type": "code",
   "execution_count": 1,
   "metadata": {},
   "outputs": [],
   "source": [
    "import docker"
   ]
  },
  {
   "cell_type": "code",
   "execution_count": 3,
   "metadata": {},
   "outputs": [
    {
     "data": {
      "text/plain": [
       "<docker.client.DockerClient at 0x111ae97f0>"
      ]
     },
     "execution_count": 3,
     "metadata": {},
     "output_type": "execute_result"
    }
   ],
   "source": [
    "client = docker.from_env()"
   ]
  },
  {
   "cell_type": "code",
   "execution_count": 17,
   "metadata": {},
   "outputs": [
    {
     "name": "stdout",
     "output_type": "stream",
     "text": [
      "Container Count: 0\n"
     ]
    }
   ],
   "source": [
    "print(\"Container Count: {}\".format(len(client.containers.list())))\n",
    "\n",
    "for container in client.containers.list():\n",
    "    print(container)\n"
   ]
  },
  {
   "cell_type": "code",
   "execution_count": 20,
   "metadata": {},
   "outputs": [
    {
     "name": "stdout",
     "output_type": "stream",
     "text": [
      "Image Count: 7\n",
      "<Image: 'distributed-logger:latest'>\n",
      "<Image: 'rust:latest'>\n",
      "<Image: 'dogukanarat/dockerhub:req-rep-application', 'rustinprocess:latest'>\n",
      "<Image: 'postgres:latest'>\n",
      "<Image: 'gcr.io/k8s-minikube/kicbase:v0.0.32'>\n",
      "<Image: 'redis:latest'>\n",
      "<Image: 'mongo:latest'>\n"
     ]
    }
   ],
   "source": [
    "print(\"Image Count: {}\".format(len(client.images.list())))\n",
    "\n",
    "for image in client.images.list():\n",
    "    print(image)"
   ]
  },
  {
   "cell_type": "code",
   "execution_count": 44,
   "metadata": {},
   "outputs": [],
   "source": [
    "dl_network = client.networks.create(\"DistributedLoggingNetwork\", driver=\"bridge\")"
   ]
  },
  {
   "cell_type": "code",
   "execution_count": 45,
   "metadata": {},
   "outputs": [
    {
     "name": "stdout",
     "output_type": "stream",
     "text": [
      "ingress\n",
      "docker_gwbridge\n",
      "dictionary_default\n",
      "minikube\n",
      "DistributedLoggingNetwork\n",
      "host\n",
      "bridge\n",
      "none\n",
      "DistributedLoggingNetwork\n"
     ]
    }
   ],
   "source": [
    "for network in client.networks.list():\n",
    "    print(network.name)"
   ]
  },
  {
   "cell_type": "code",
   "execution_count": 46,
   "metadata": {},
   "outputs": [],
   "source": [
    "distributed_logger_container = client.containers.run(\n",
    "    \"distributed-logger:latest\",\n",
    "    [\"cargo\", \"run\"],\n",
    "    detach=True,\n",
    "    stdin_open=True,\n",
    "    stdout=True,\n",
    "    environment=[\"RUST_LOG=info\"]\n",
    "    )\n",
    "\n",
    "\n",
    "dl_network.connect(distributed_logger_container)"
   ]
  },
  {
   "cell_type": "code",
   "execution_count": null,
   "metadata": {},
   "outputs": [],
   "source": []
  }
 ],
 "metadata": {
  "kernelspec": {
   "display_name": "Python 3.9.4 ('personal')",
   "language": "python",
   "name": "python3"
  },
  "language_info": {
   "codemirror_mode": {
    "name": "ipython",
    "version": 3
   },
   "file_extension": ".py",
   "mimetype": "text/x-python",
   "name": "python",
   "nbconvert_exporter": "python",
   "pygments_lexer": "ipython3",
   "version": "3.9.13"
  },
  "orig_nbformat": 4,
  "vscode": {
   "interpreter": {
    "hash": "73d1ee8ec80a47be7af1ce241faaa3da76f625731285fc7b2609438bb6d9e991"
   }
  }
 },
 "nbformat": 4,
 "nbformat_minor": 2
}
